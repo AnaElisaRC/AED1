{
  "nbformat": 4,
  "nbformat_minor": 0,
  "metadata": {
    "colab": {
      "provenance": [],
      "authorship_tag": "ABX9TyO27bvsf3lATCe73bQEQgDR",
      "include_colab_link": true
    },
    "kernelspec": {
      "name": "python3",
      "display_name": "Python 3"
    },
    "language_info": {
      "name": "python"
    }
  },
  "cells": [
    {
      "cell_type": "markdown",
      "metadata": {
        "id": "view-in-github",
        "colab_type": "text"
      },
      "source": [
        "<a href=\"https://colab.research.google.com/github/AnaElisaRC/AED1/blob/main/Exercicio1.ipynb\" target=\"_parent\"><img src=\"https://colab.research.google.com/assets/colab-badge.svg\" alt=\"Open In Colab\"/></a>"
      ]
    },
    {
      "cell_type": "code",
      "execution_count": 16,
      "metadata": {
        "colab": {
          "base_uri": "https://localhost:8080/"
        },
        "id": "BPzWvfYgKcPz",
        "outputId": "693ad303-3dd6-47d7-89f7-e2c25f528fd2"
      },
      "outputs": [
        {
          "output_type": "stream",
          "name": "stdout",
          "text": [
            "[22, 20, 18, 14, 12, 10, 8, 6, 4, 2]\n"
          ]
        }
      ],
      "source": [
        "vetor= [2,4,6,8,10,12,14,18,20,22]\n",
        "vetor.sort(reverse=True)\n",
        "print(vetor)"
      ]
    }
  ]
}